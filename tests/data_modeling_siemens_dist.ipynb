{
 "cells": [
  {
   "cell_type": "code",
   "execution_count": null,
   "id": "fad77fab-e206-47c1-9655-088d14fe30cb",
   "metadata": {},
   "outputs": [],
   "source": [
    "import numpy as np\n",
    "import dxchange\n",
    "import holotomo\n",
    "import matplotlib.pyplot as plt\n",
    "import cv2\n",
    "import xraylib\n",
    "import random\n",
    "import scipy.ndimage as ndimage\n",
    "import tifffile\n",
    "\n",
    "PLANCK_CONSTANT = 4.135667696e-18  # [keV*s]\n",
    "SPEED_OF_LIGHT = 299792458  # [m/s]\n",
    "\n",
    "%matplotlib inline"
   ]
  },
  {
   "cell_type": "markdown",
   "id": "3c0fdd65-1cff-451e-865e-56cd8b7882a6",
   "metadata": {},
   "source": [
    "# Init data sizes and parametes of the PXM of ID16A"
   ]
  },
  {
   "cell_type": "code",
   "execution_count": null,
   "id": "59fa16f2-1f9c-4b3a-a330-e10942f12234",
   "metadata": {},
   "outputs": [],
   "source": [
    "n = 2048  # object size in each dimension\n",
    "ntheta = 1  # number of angles (rotations)\n",
    "\n",
    "pn = 64  # tomography chunk size for GPU processing\n",
    "ptheta = 1  # holography chunk size for GPU processing\n",
    "\n",
    "center = n/2  # rotation axis\n",
    "theta = np.linspace(0, np.pi, ntheta).astype('float32')  # projection angles\n",
    "\n",
    "# ID16a setup\n",
    "voxelsize = 10e-9*2048/n  # object voxel size\n",
    "energy = 17.05  # [keV] xray energy\n",
    "wavelength = PLANCK_CONSTANT * SPEED_OF_LIGHT / energy\n",
    "focusToDetectorDistance = 1.28\n",
    "ndist = 3\n",
    "sx0 = 3.7e-4\n",
    "# z1 = np.array([4.584e-3, 4.765e-3, 5.488e-3, 6.9895e-3])[:ndist]-sx0\n",
    "z1 = np.array([4.584e-3, 4.765e-3, 5.488e-3, 6.9895e-3])[:ndist]-sx0\n",
    "# z1[:] = z1[0]\n",
    "z2 = focusToDetectorDistance-z1\n",
    "distances = (z1*z2)/focusToDetectorDistance\n",
    "magnifications = focusToDetectorDistance/z1\n",
    "norm_magnifications = magnifications/magnifications[0]\n",
    "# scaled propagation distances due to magnified probes\n",
    "distances = distances*norm_magnifications**2\n",
    "\n",
    "z1p = 270e-3# positions of the probe and code for reconstruction\n",
    "z2p = z1-z1p\n",
    "# magnification when propagating from the probe plane to the detector\n",
    "magnificationsp = z1/z1p\n",
    "# propagation distances after switching from the point source wave to plane wave,\n",
    "distancesp = (z1p*z2p)/z1\n",
    "\n",
    "norm_magnificationsp = magnificationsp/(z1p/z1[0])  # normalized magnifications\n",
    "# scaled propagation distances due to magnified probes\n",
    "distancesp = distancesp*norm_magnificationsp**2\n",
    "distancesp = distancesp*(z1p/z1)**2\n",
    "\n",
    "print(distances, distancesp)\n",
    "print(distances+ distancesp)\n"
   ]
  },
  {
   "cell_type": "markdown",
   "id": "49eb1696-bb30-496e-8c3d-565f2791112c",
   "metadata": {},
   "source": [
    "## Form a siemens star"
   ]
  },
  {
   "cell_type": "code",
   "execution_count": null,
   "id": "b5c43122",
   "metadata": {},
   "outputs": [],
   "source": [
    "img = np.zeros((n, n, 3), np.uint8)\n",
    "triangle = np.array([(n//16, n//2-n//32), (n//16, n//2+n//32), (n//2-n//128, n//2)], np.float32)\n",
    "star = img[:,:,0]*0\n",
    "for i in range(0, 360, 15):\n",
    "    img = np.zeros((n, n, 3), np.uint8)\n",
    "    degree = i\n",
    "    theta = degree * np.pi / 180\n",
    "    rot_mat = np.array([[np.cos(theta), -np.sin(theta)],\n",
    "                        [np.sin(theta), np.cos(theta)]], np.float32)    \n",
    "    rotated = cv2.gemm(triangle-n//2, rot_mat, 1, None, 1, flags=cv2.GEMM_2_T)+n//2\n",
    "    cv2.fillPoly(img, [np.int32(rotated)], (255, 0, 0))\n",
    "    star+=img[:,:,0]\n",
    "[x,y] = np.meshgrid(np.arange(-n//2,n//2),np.arange(-n//2,n//2))\n",
    "x = x/n*2\n",
    "y = y/n*2\n",
    "# add holes in triangles\n",
    "circ = (x**2+y**2>0.385)+(x**2+y**2<0.365)\n",
    "circ *= (x**2+y**2>0.053)+(x**2+y**2<0.05)\n",
    "circ *= (x**2+y**2>0.0085)+(x**2+y**2<0.008)\n",
    "star = star*circ/255\n",
    "\n",
    "v = np.arange(-n//2,n//2)/n\n",
    "[vx,vy] = np.meshgrid(v,v)\n",
    "v = np.exp(-5*(vx**2+vy**2))\n",
    "fu = np.fft.fftshift(np.fft.fftn(np.fft.fftshift(star)))\n",
    "star = np.fft.fftshift(np.fft.ifftn(np.fft.fftshift(fu*v))).real\n",
    "\n",
    "delta = 1-xraylib.Refractive_Index_Re('Au',energy,19.3)\n",
    "beta = xraylib.Refractive_Index_Im('Au',energy,19.3)\n",
    "\n",
    "thickness = 600e-9/voxelsize # siemens star thickness in pixels\n",
    "# form Transmittance function\n",
    "u = star*(-delta+1j*beta) # note -delta\n",
    "Ru = u*thickness \n",
    "psi = np.exp(1j * Ru * voxelsize * 2 * np.pi / wavelength)[np.newaxis].astype('complex64')\n",
    "psi = np.pad(psi,((0,0),(n//2,n//2),(n//2,n//2)),'constant',constant_values=1)\n",
    "# psi[:]=1\n",
    "fig, axs = plt.subplots(1, 2, figsize=(9, 4))\n",
    "im=axs[0].imshow(np.abs(psi[0]),cmap='gray')\n",
    "axs[0].set_title('amplitude')\n",
    "fig.colorbar(im)\n",
    "im=axs[1].imshow(np.angle(psi[0]),cmap='gray')\n",
    "axs[1].set_title('phase')\n",
    "fig.colorbar(im)"
   ]
  },
  {
   "cell_type": "code",
   "execution_count": null,
   "id": "8a579ce4-0cd2-4769-a03d-7614aa96b0a8",
   "metadata": {},
   "outputs": [],
   "source": [
    "# make some large global code first\n",
    "random.seed(10)\n",
    "nill = 2**12\n",
    "ill_global = np.zeros([1,nill,nill],dtype='bool')\n",
    "for k in  range(ill_global.shape[0]):\n",
    "    ill0 = np.zeros([nill*nill],dtype='bool')\n",
    "    ill_ids = random.sample(range(0, nill*nill), nill*nill//2)\n",
    "    ill0[ill_ids] = 1\n",
    "    ill_global[k] = ill0.reshape(nill,nill)\n",
    "\n",
    "# form codes for simulations\n",
    "ill_feature_size = 5e-5\n",
    "print(magnificationsp[0])\n",
    "nill = int(2*n*voxelsize/magnificationsp[0]//(ill_feature_size*2))*2\n",
    "print(nill)\n",
    "ill = np.zeros([1,nill,nill],dtype='bool')\n",
    "for k in  range(ill.shape[0]):\n",
    "    ill0 = ill_global[k]\n",
    "    ill[k] = ill0[ill0.shape[0]//2-nill//2:ill0.shape[0]//2+(nill)//2,ill0.shape[1]//2-nill//2:ill0.shape[1]//2+(nill)//2]#.reshape(nill,nill)\n",
    "ill = ndimage.zoom(ill,[1,2*n/nill,2*n/nill],order=0,grid_mode=True,mode='grid-wrap')\n",
    "\n",
    "delta = 1-xraylib.Refractive_Index_Re('Au',energy,19.3)\n",
    "beta = xraylib.Refractive_Index_Im('Au',energy,19.3)\n",
    "\n",
    "thickness = 3*1e-6/voxelsize # thickness in pixels\n",
    "\n",
    "# form Transmittance function\n",
    "Rill = ill*(-delta+1j*beta)*thickness \n",
    "psiill = np.exp(1j * Rill * voxelsize * 2 * np.pi / wavelength).astype('complex64')\n",
    "\n",
    "psiill[:]=1\n",
    "fig, axs = plt.subplots(1, 2, figsize=(9, 4))\n",
    "im=axs[0].imshow(np.abs(psiill[0]),cmap='gray')\n",
    "axs[0].set_title('amplitude')\n",
    "fig.colorbar(im)\n",
    "im=axs[1].imshow(np.angle(psiill[0]),cmap='gray')\n",
    "axs[1].set_title('phase')\n",
    "fig.colorbar(im)\n",
    "print(distances,distancesp)\n",
    "\n"
   ]
  },
  {
   "cell_type": "markdown",
   "id": "20ef8f9b-8b9d-4685-b8e5-c81c656c774e",
   "metadata": {},
   "source": [
    "## Form tranmistance function for the code made of gold with 1um feature size, and 3um thickness"
   ]
  },
  {
   "cell_type": "code",
   "execution_count": null,
   "id": "72d62bdf",
   "metadata": {},
   "outputs": [],
   "source": [
    "shifts_code = (np.random.random([ndist, ntheta, 2]).astype('float32')-0.5)*n/8*0"
   ]
  },
  {
   "cell_type": "markdown",
   "id": "b8288318-1c78-4348-b267-7464dda0b4cb",
   "metadata": {},
   "source": [
    "## Read one probe"
   ]
  },
  {
   "cell_type": "code",
   "execution_count": null,
   "id": "072231dd-1316-4f25-b09e-06903f45a3ba",
   "metadata": {},
   "outputs": [],
   "source": [
    "prb_abs = dxchange.read_tiff(f'data/prb_id16a/prb_abs_{n}.tiff')[0:1]\n",
    "prb_phase = dxchange.read_tiff(f'data/prb_id16a/prb_phase_{n}.tiff')[0:1]\n",
    "prb = prb_abs*np.exp(1j*prb_phase).astype('complex64')  \n",
    "# prb[:] = 1\n",
    "fig, axs = plt.subplots(1, 2, figsize=(9, 4))\n",
    "im=axs[0].imshow(np.abs(prb[0]),cmap='gray')\n",
    "axs[0].set_title('scaled probe at z1[0], amplitude')\n",
    "fig.colorbar(im)\n",
    "im=axs[1].imshow(np.angle(prb[0]),cmap='gray')\n",
    "axs[1].set_title('scaled probe at z1[0], phase')\n",
    "fig.colorbar(im)\n"
   ]
  },
  {
   "cell_type": "markdown",
   "id": "ab762843-1992-4f4a-b719-d166ec18c8ca",
   "metadata": {},
   "source": [
    "## Create a solver class for holography, note the class has additional parameters distancesp to be able to compute Fresnel propagation between the sample and probe"
   ]
  },
  {
   "cell_type": "code",
   "execution_count": null,
   "id": "da48da05-6b46-468a-ae51-ced767b53561",
   "metadata": {},
   "outputs": [],
   "source": [
    "pslv = holotomo.SolverHolo(ntheta, n, ptheta, voxelsize, energy, distances, norm_magnifications, distancesp)"
   ]
  },
  {
   "cell_type": "markdown",
   "id": "baa6d000-24ae-493e-a186-31f805d7c4a7",
   "metadata": {},
   "source": [
    "## Model data"
   ]
  },
  {
   "cell_type": "code",
   "execution_count": null,
   "id": "e274b328-081a-419e-ac95-54fed06a06c1",
   "metadata": {},
   "outputs": [],
   "source": [
    "shifts = (np.random.random([ndist, ntheta, 2]).astype('float32')-0.5)*n/16*0#*norm_magnifications[:,np.newaxis,np.newaxis]\n",
    "shifts_ref = shifts/norm_magnifications[:,np.newaxis,np.newaxis]\n",
    "fpsi = pslv.fwd_holo_batch(psi,prb,shifts_ref,psiill,shifts_code)\n",
    "fpsi0 = pslv.fwd_holo_batch(psi,prb*0+1,shifts_ref,psiill,shifts_code) # ignore probe\n",
    "\n",
    "pslv0 = holotomo.SolverHolo(1, n, 1, voxelsize, energy, distances[:1], norm_magnifications[:1], distancesp[:1]) \n",
    "fref = pslv0.fwd_holo_batch(psi*0+1,prb,shifts_ref[:1,:1]*0,psiill,shifts_code[:1,:1]*0) # ignore sample"
   ]
  },
  {
   "cell_type": "markdown",
   "id": "18e9c352-2b2c-49d7-adc0-301a05da964c",
   "metadata": {},
   "source": [
    "## Take squared absolute value to simulate data on the detector, flat fields, and data with homogeneous flat fields  "
   ]
  },
  {
   "cell_type": "code",
   "execution_count": null,
   "id": "f4f94fd7-b14c-4dc3-832c-2f00d1674039",
   "metadata": {},
   "outputs": [],
   "source": [
    "data = np.abs(fpsi)**2\n",
    "data_ref = np.abs(fref)**2"
   ]
  },
  {
   "cell_type": "markdown",
   "id": "5d54a8fd-dc77-40fc-baef-17e88f17f7d5",
   "metadata": {},
   "source": [
    "## Show data and flat fields for different codes"
   ]
  },
  {
   "cell_type": "code",
   "execution_count": null,
   "id": "2811e7d0-2f41-4451-92c4-462be07474b9",
   "metadata": {},
   "outputs": [],
   "source": [
    "fig, axs = plt.subplots(2, 2, figsize=(9, 9))\n",
    "im=axs[0,0].imshow(data[0,0],cmap='gray')\n",
    "axs[0,0].set_title('data, code=0')\n",
    "fig.colorbar(im)\n",
    "im=axs[0,1].imshow(data_ref[0,0],cmap='gray')\n",
    "axs[0,1].set_title('flat, code=0')\n",
    "fig.colorbar(im)\n",
    "im=axs[1,0].imshow(data[-1,0],cmap='gray')\n",
    "axs[1,0].set_title('data, code=-1')\n",
    "fig.colorbar(im)\n",
    "im=axs[1,1].imshow(data_ref[-1,0],cmap='gray')\n",
    "axs[1,1].set_title('flat, code=-1')\n",
    "fig.colorbar(im)\n",
    "plt.figure()\n",
    "plt.plot(data_ref[0,0,n//2])\n"
   ]
  },
  {
   "cell_type": "markdown",
   "id": "80625cf6-2687-43fa-8d0a-dd3396f91aa7",
   "metadata": {},
   "source": [
    "# Save data and flat fields"
   ]
  },
  {
   "cell_type": "code",
   "execution_count": null,
   "id": "1edf3f41-30cb-4092-b90c-ca2f1f829ac7",
   "metadata": {},
   "outputs": [],
   "source": [
    "for k in range(len(distances)):\n",
    "    dxchange.write_tiff(data[k],f'data/modeling/data_siemens_dist_{n}_{k}',overwrite=True)\n",
    "dxchange.write_tiff(data_ref[0,0],f'data/modeling/ref_siemens_dist_{n}_0',overwrite=True)\n",
    "\n",
    "\n"
   ]
  }
 ],
 "metadata": {
  "kernelspec": {
   "display_name": "Python 3 (ipykernel)",
   "language": "python",
   "name": "python3"
  },
  "language_info": {
   "codemirror_mode": {
    "name": "ipython",
    "version": 3
   },
   "file_extension": ".py",
   "mimetype": "text/x-python",
   "name": "python",
   "nbconvert_exporter": "python",
   "pygments_lexer": "ipython3",
   "version": "3.10.13"
  }
 },
 "nbformat": 4,
 "nbformat_minor": 5
}
