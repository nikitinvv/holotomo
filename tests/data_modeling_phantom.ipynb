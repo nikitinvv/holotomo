{
 "cells": [
  {
   "cell_type": "code",
   "execution_count": 1,
   "id": "fad77fab-e206-47c1-9655-088d14fe30cb",
   "metadata": {},
   "outputs": [],
   "source": [
    "import numpy as np\n",
    "import dxchange\n",
    "import holotomo\n",
    "import matplotlib.pyplot as plt\n",
    "\n",
    "%matplotlib inline"
   ]
  },
  {
   "cell_type": "markdown",
   "id": "3c0fdd65-1cff-451e-865e-56cd8b7882a6",
   "metadata": {},
   "source": [
    "# Init data sizes and parametes of the PXM of ID16A"
   ]
  },
  {
   "cell_type": "code",
   "execution_count": 2,
   "id": "59fa16f2-1f9c-4b3a-a330-e10942f12234",
   "metadata": {},
   "outputs": [],
   "source": [
    "n = 384  # object size in x,y\n",
    "ntheta = 1  # number of angles (rotations)\n",
    "\n",
    "pn = n # tomography chunk size for GPU processing (dont change if data is small and fits gpu memory)\n",
    "ptheta = 1 # holography chunk size for GPU processing\n",
    "\n",
    "center = n/2 # rotation axis\n",
    "theta = np.linspace(0, np.pi, ntheta).astype('float32') # projection angles\n",
    "\n",
    "# ID16a setup\n",
    "voxelsize = 10e-9*2048/n # [m] object voxel size \n",
    "energy = 33.35  # [keV] x-ray energy    \n",
    "focusToDetectorDistance = 1.28 # [m]\n",
    "sx0 = 3.7e-4 # [m] motor offset from the focal spot\n",
    "z1 = np.array([4.584,4.765,5.488,6.9895])*1e-3-sx0 # distances between planes and the focal spot\n",
    "z2 = focusToDetectorDistance-z1 # distances between planes and the detector\n",
    "magnifications = focusToDetectorDistance/z1 # actual magnifications\n",
    "norm_magnifications = magnifications/magnifications[0] # normalized magnifications\n",
    "distances = (z1*z2)/focusToDetectorDistance # propagation distances after switching from the point source wave to plane wave,\n",
    "distances = distances*norm_magnifications**2 # scaled propagation distancesc due to magnified probes"
   ]
  },
  {
   "cell_type": "markdown",
   "id": "49eb1696-bb30-496e-8c3d-565f2791112c",
   "metadata": {},
   "source": [
    "## Generate phantom data as a set of ellipses"
   ]
  },
  {
   "cell_type": "code",
   "execution_count": 3,
   "id": "8a579ce4-0cd2-4769-a03d-7614aa96b0a8",
   "metadata": {},
   "outputs": [
    {
     "name": "stdout",
     "output_type": "stream",
     "text": [
      "-2.3754525801944482e-07 9.488849121350568e-11\n",
      "2.3754525801944482e-07 -9.488849121350568e-11\n"
     ]
    }
   ],
   "source": [
    "import xraylib\n",
    "delta_m1 = -(1-xraylib.Refractive_Index_Re('(C5O2H8)n',energy,1.18)) #density\n",
    "beta_m1 = xraylib.Refractive_Index_Im('(C5O2H8)n',energy,1.18)\n",
    "delta_m2 = -delta_m1#-(1-xraylib.Refractive_Index_Re('H2O',energy,1))\n",
    "beta_m2 = -beta_m1#xraylib.Refractive_Index_Im('H2O',energy,1)\n",
    "\n",
    "print(delta_m1,beta_m1)\n",
    "print(delta_m2,beta_m2)\n",
    "\n",
    "ellipses = [[delta_m1+1j*beta_m1, 0.4, 0.4, 0.4, 0,0,0,0],\n",
    "            [delta_m2+1j*beta_m2, 0.2, 0.35, 0.35, 0,0,0,0]]\n",
    "\n",
    " \n",
    "# Blank image\n",
    "u = np.zeros ((n, n, n),dtype='complex64')\n",
    "\n",
    "# Create the pixel grid\n",
    "zgrid, ygrid, xgrid = np.mgrid[-1:1:(1j*n), -1:1:(1j*n), -1:1:(1j*n)]\n",
    "\n",
    "for ellip in ellipses:\n",
    "    I   = ellip[0] #\n",
    "    a2  = ellip [1]**2\n",
    "    b2  = ellip [2]**2\n",
    "    b3  = ellip [3]**2\n",
    "    x0  = ellip [4]\n",
    "    y0  = ellip [5]\n",
    "    z0  = ellip [6]\n",
    "    phi = ellip [7] * np.pi / 180  # Rotation angle in radians\n",
    "    \n",
    "    # Create the offset x and y values for the grid\n",
    "    x = xgrid - x0\n",
    "    y = ygrid - y0\n",
    "    z = zgrid - z0\n",
    "    \n",
    "    cos_p = np.cos (phi) \n",
    "    sin_p = np.sin (phi)\n",
    "    \n",
    "    # Find the pixels within the ellipse\n",
    "    locs = (((x * cos_p + y * sin_p)**2) / a2 \n",
    "          + ((y * cos_p - x * sin_p)**2) / b2\n",
    "          + (z**2) / b3)<= 1\n",
    "    \n",
    "    # Add the ellipse intensity to those pixels\n",
    "    u [locs] += I"
   ]
  },
  {
   "cell_type": "code",
   "execution_count": 4,
   "id": "dfe7a597-6563-4f04-b7a9-a507ac3453b3",
   "metadata": {},
   "outputs": [
    {
     "ename": "NameError",
     "evalue": "name 'nz' is not defined",
     "output_type": "error",
     "traceback": [
      "\u001b[0;31m---------------------------------------------------------------------------\u001b[0m",
      "\u001b[0;31mNameError\u001b[0m                                 Traceback (most recent call last)",
      "Cell \u001b[0;32mIn[4], line 2\u001b[0m\n\u001b[1;32m      1\u001b[0m fig, axs \u001b[38;5;241m=\u001b[39m plt\u001b[38;5;241m.\u001b[39msubplots(\u001b[38;5;241m2\u001b[39m, \u001b[38;5;241m2\u001b[39m, figsize\u001b[38;5;241m=\u001b[39m(\u001b[38;5;241m9\u001b[39m, \u001b[38;5;241m9\u001b[39m))\n\u001b[0;32m----> 2\u001b[0m im\u001b[38;5;241m=\u001b[39maxs[\u001b[38;5;241m0\u001b[39m,\u001b[38;5;241m0\u001b[39m]\u001b[38;5;241m.\u001b[39mimshow(u[\u001b[43mnz\u001b[49m\u001b[38;5;241m/\u001b[39m\u001b[38;5;241m/\u001b[39m\u001b[38;5;241m2\u001b[39m]\u001b[38;5;241m.\u001b[39mreal,cmap\u001b[38;5;241m=\u001b[39m\u001b[38;5;124m'\u001b[39m\u001b[38;5;124mgray\u001b[39m\u001b[38;5;124m'\u001b[39m)\n\u001b[1;32m      3\u001b[0m fig\u001b[38;5;241m.\u001b[39mcolorbar(im)\n\u001b[1;32m      4\u001b[0m im\u001b[38;5;241m=\u001b[39maxs[\u001b[38;5;241m0\u001b[39m,\u001b[38;5;241m1\u001b[39m]\u001b[38;5;241m.\u001b[39mimshow(u[nz\u001b[38;5;241m/\u001b[39m\u001b[38;5;241m/\u001b[39m\u001b[38;5;241m2\u001b[39m]\u001b[38;5;241m.\u001b[39mimag,cmap\u001b[38;5;241m=\u001b[39m\u001b[38;5;124m'\u001b[39m\u001b[38;5;124mgray\u001b[39m\u001b[38;5;124m'\u001b[39m)\n",
      "\u001b[0;31mNameError\u001b[0m: name 'nz' is not defined"
     ]
    },
    {
     "data": {
      "image/png": "[encoded data removed]",
      "text/plain": [
       "<Figure size 900x900 with 4 Axes>"
      ]
     },
     "metadata": {},
     "output_type": "display_data"
    }
   ],
   "source": [
    "fig, axs = plt.subplots(2, 2, figsize=(9, 9))\n",
    "im=axs[0,0].imshow(u[n//2].real,cmap='gray')\n",
    "fig.colorbar(im)\n",
    "im=axs[0,1].imshow(u[n//2].imag,cmap='gray')\n",
    "fig.colorbar(im)\n",
    "im=axs[1,0].imshow(u[:,n//2+n//8].real,cmap='gray')\n",
    "fig.colorbar(im)\n",
    "im=axs[1,1].imshow(u[:,n//2+n//8].imag,cmap='gray')\n",
    "fig.colorbar(im)"
   ]
  },
  {
   "cell_type": "markdown",
   "id": "1dae4bc9-e07e-454f-a1d9-e0833f8738bf",
   "metadata": {},
   "source": [
    "Note that in this formation delta is negative"
   ]
  },
  {
   "cell_type": "markdown",
   "id": "87dfb48e-9bc6-43dd-a4f6-bbdceb887660",
   "metadata": {},
   "source": [
    "## Create a solver class for tomography"
   ]
  },
  {
   "cell_type": "code",
   "execution_count": null,
   "id": "c1d4103d-e6cd-417b-a6f8-5ee0c34e4f9d",
   "metadata": {},
   "outputs": [],
   "source": [
    "tslv = holotomo.SolverTomo(theta, ntheta, n, n, pn, center)"
   ]
  },
  {
   "cell_type": "markdown",
   "id": "ebfb6881-a96d-4f9d-be5f-8bd90521fd33",
   "metadata": {},
   "source": [
    "note pnz parameter is used to define the number of slices for simultaneous processing by 1 gpu. Currently pnz=nz. If the gpu does not have enough memory then pnz should  be decreased"
   ]
  },
  {
   "cell_type": "markdown",
   "id": "ab762843-1992-4f4a-b719-d166ec18c8ca",
   "metadata": {},
   "source": [
    "## Create a solver class for holography"
   ]
  },
  {
   "cell_type": "code",
   "execution_count": null,
   "id": "da48da05-6b46-468a-ae51-ced767b53561",
   "metadata": {},
   "outputs": [],
   "source": [
    "pslv = holotomo.SolverHolo(ntheta, n, ptheta, voxelsize, energy, distances, norm_magnifications)"
   ]
  },
  {
   "cell_type": "markdown",
   "id": "25557576-b0cf-413e-9d51-ac1ced4d3979",
   "metadata": {},
   "source": [
    "note ptheta parameter is used to define the number of angles for simultaneous processing by 1 gpu. Currently pntheta=ntheta. If the gpu does not have enough memory then ptheta should  be decreased\n",
    "norm_magnifications are magnifications for different distances, normalized by the magnification for the first distance"
   ]
  },
  {
   "cell_type": "markdown",
   "id": "2f80b96c-d4b8-4c0e-8999-b8198bbc486a",
   "metadata": {},
   "source": [
    "## Compute tomographic projection data via the Fourier based method, $\\mathcal{R}u$:"
   ]
  },
  {
   "cell_type": "code",
   "execution_count": null,
   "id": "87c2a585-910b-4c13-85fc-7f9e640f8293",
   "metadata": {},
   "outputs": [],
   "source": [
    "Ru = tslv.fwd_tomo_batch(u)"
   ]
  },
  {
   "cell_type": "markdown",
   "id": "8ad80230-2c85-4338-ab29-ce4421451d0d",
   "metadata": {},
   "source": [
    "## Convert it to the transmittance function $e^{\\frac{2\\pi j}{\\lambda} \\mathcal{R} u }$"
   ]
  },
  {
   "cell_type": "code",
   "execution_count": null,
   "id": "9741128b-b019-44f4-abc1-ed2da6a86f07",
   "metadata": {},
   "outputs": [],
   "source": [
    "psi = pslv.exptomo(Ru)\n"
   ]
  },
  {
   "cell_type": "code",
   "execution_count": null,
   "id": "fba583b0-21c9-4587-85fa-4ae758231ea2",
   "metadata": {},
   "outputs": [],
   "source": [
    "fig, axs = plt.subplots(1, 2, figsize=(9, 4))\n",
    "im=axs[0].imshow(np.abs(psi[0]),cmap='gray')\n",
    "fig.colorbar(im)\n",
    "im=axs[1].imshow(np.angle(psi[0]),cmap='gray')\n",
    "fig.colorbar(im)"
   ]
  },
  {
   "cell_type": "markdown",
   "id": "bc0f342c-c899-4a73-9871-9717e2bc96c6",
   "metadata": {},
   "source": [
    "## Read reference images (probes) recovered by the NFP (Near-field ptychogarphy) method at ID16A. There are probes for 4 different distances."
   ]
  },
  {
   "cell_type": "code",
   "execution_count": null,
   "id": "6ae30f8e-2518-42aa-bbbc-9a2664e74e2d",
   "metadata": {},
   "outputs": [],
   "source": [
    "prb_abs = dxchange.read_tiff(f'data/prb_id16a/prb_abs_{n}.tiff')[:1]\n",
    "prb_phase = dxchange.read_tiff(f'data/prb_id16a/prb_phase_{n}.tiff')[:1]\n",
    "prb = prb_abs*np.exp(1j*prb_phase)    \n",
    "\n",
    "# simplify test by using prb=1\n",
    "prb[:] = 1"
   ]
  },
  {
   "cell_type": "code",
   "execution_count": null,
   "id": "22d65e97-a563-4188-8c12-6a3afba05020",
   "metadata": {},
   "outputs": [],
   "source": [
    "fig, axs = plt.subplots(1, 2, figsize=(9, 5))\n",
    "im=axs[0].imshow(np.abs(prb[0]),cmap='gray')\n",
    "axs[0].set_title('scaled probe at z1[0], amplitude')\n",
    "fig.colorbar(im)\n",
    "im=axs[1].imshow(np.angle(prb[0]),cmap='gray')\n",
    "axs[1].set_title('scaled probe at z1[0], phase')\n",
    "fig.colorbar(im)\n"
   ]
  },
  {
   "cell_type": "markdown",
   "id": "34abfd9e-9dde-4241-8055-96cec24c18fb",
   "metadata": {},
   "source": [
    "# Compute holographic projections for all angles and all distances"
   ]
  },
  {
   "cell_type": "code",
   "execution_count": null,
   "id": "cc1de9a1-6137-4e8b-844f-7e7726c5492e",
   "metadata": {},
   "outputs": [],
   "source": [
    "psie = np.pad(psi,((0,0),(n//2,n//2),(n//2,n//2)),'constant',constant_values=1)\n",
    "fpsi = pslv.fwd_holo_batch(psie,prb)\n",
    "fflat = pslv.fwd_holo_batch(psie*0+1,prb) \n",
    "fpsi0 = pslv.fwd_holo_batch(psie,prb*0+1)"
   ]
  },
  {
   "cell_type": "markdown",
   "id": "18e9c352-2b2c-49d7-adc0-301a05da964c",
   "metadata": {},
   "source": [
    "## Take squared absolute value to simulate data on the detector, flat fields, and data with homogeneous flat fields  "
   ]
  },
  {
   "cell_type": "code",
   "execution_count": null,
   "id": "f4f94fd7-b14c-4dc3-832c-2f00d1674039",
   "metadata": {},
   "outputs": [],
   "source": [
    "data = np.abs(fpsi)**2\n",
    "flat = np.abs(fflat)**2\n",
    "data0 = np.abs(fpsi0)**2"
   ]
  },
  {
   "cell_type": "code",
   "execution_count": null,
   "id": "a6f2d198-deeb-4038-9962-4509500ab5a2",
   "metadata": {},
   "outputs": [],
   "source": [
    "fig, axs = plt.subplots(2, 2, figsize=(9, 9))\n",
    "im=axs[0,0].imshow(data[0,0]/flat[0,0],cmap='gray')\n",
    "axs[0,0].set_title('data/flat')\n",
    "fig.colorbar(im)\n",
    "im=axs[0,1].imshow(data0[0,0],cmap='gray')\n",
    "axs[0,1].set_title('data0 generated with flat==1')\n",
    "fig.colorbar(im)\n",
    "im=axs[1,0].imshow(data[3,0],cmap='gray')\n",
    "axs[1,0].set_title('data')\n",
    "fig.colorbar(im)\n",
    "im=axs[1,1].imshow(data[0,0]/flat[0,0]-data0[0,0],cmap='gray')\n",
    "axs[1,1].set_title('data/flat - data0')\n",
    "fig.colorbar(im)"
   ]
  },
  {
   "cell_type": "markdown",
   "id": "fbc5ddee-868f-4468-a13d-0004486f0150",
   "metadata": {},
   "source": [
    "# Save data"
   ]
  },
  {
   "cell_type": "code",
   "execution_count": null,
   "id": "1edf3f41-30cb-4092-b90c-ca2f1f829ac7",
   "metadata": {},
   "outputs": [],
   "source": [
    "for k in range(len(distances)):\n",
    "    dxchange.write_tiff(data[k],f'data/modeling/data_phantom_{n}_{k}',overwrite=True)\n",
    "for k in range(len(distances)):\n",
    "    dxchange.write_tiff(flat[k,0],f'data/modeling/flat_phantom_{n}_{k}',overwrite=True)"
   ]
  }
 ],
 "metadata": {
  "kernelspec": {
   "display_name": "Python 3 (ipykernel)",
   "language": "python",
   "name": "python3"
  },
  "language_info": {
   "codemirror_mode": {
    "name": "ipython",
    "version": 3
   },
   "file_extension": ".py",
   "mimetype": "text/x-python",
   "name": "python",
   "nbconvert_exporter": "python",
   "pygments_lexer": "ipython3",
   "version": "3.10.13"
  }
 },
 "nbformat": 4,
 "nbformat_minor": 5
}
