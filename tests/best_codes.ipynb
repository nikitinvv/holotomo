{
 "cells": [
  {
   "cell_type": "code",
   "execution_count": null,
   "id": "fad77fab-e206-47c1-9655-088d14fe30cb",
   "metadata": {},
   "outputs": [],
   "source": [
    "import numpy as np\n",
    "import dxchange\n",
    "import holotomo\n",
    "import matplotlib.pyplot as plt\n",
    "import cupy as cp\n",
    "%matplotlib inline\n",
    "\n",
    "cp.cuda.Device(2).use()"
   ]
  },
  {
   "cell_type": "markdown",
   "id": "3c0fdd65-1cff-451e-865e-56cd8b7882a6",
   "metadata": {},
   "source": [
    "# Init data sizes and parametes of the PXM of ID16A"
   ]
  },
  {
   "cell_type": "code",
   "execution_count": null,
   "id": "59fa16f2-1f9c-4b3a-a330-e10942f12234",
   "metadata": {},
   "outputs": [],
   "source": [
    "ntheta = 180  # number of angles (rotations)\n",
    "n = 512\n",
    "pn = 32  # tomography chunk size for GPU processing\n",
    "ptheta = 180  # holography chunk size for GPU processing\n",
    "\n",
    "center = n/2  # rotation axis\n",
    "theta = np.linspace(0, np.pi, ntheta).astype('float32')  # projection angles\n",
    "\n",
    "# ID16a setup\n",
    "voxelsize = 10e-9*2048/n  # object voxel size\n",
    "energy = 33.35  # [keV] xray energy\n",
    "focusToDetectorDistance = 1.28\n",
    "ndist = 4\n",
    "sx0 = 3.7e-4\n",
    "z1 = np.array([4.584e-3, 4.765e-3, 5.488e-3, 6.9895e-3])[:ndist]-sx0\n",
    "\n",
    "z2 = focusToDetectorDistance-z1\n",
    "distances = (z1*z2)/focusToDetectorDistance\n",
    "magnifications = focusToDetectorDistance/z1\n",
    "norm_magnifications = magnifications/magnifications[0]\n",
    "# scaled propagation distances due to magnified probes\n",
    "distances = distances*norm_magnifications**2\n",
    "\n",
    "z1p = z1[0]  # positions of the probe for reconstruction\n",
    "z2p = z1-np.tile(z1p, len(z1))\n",
    "# magnification when propagating from the probe plane to the detector\n",
    "magnifications2 = (z1p+z2p)/z1p\n",
    "# propagation distances after switching from the point source wave to plane wave,\n",
    "distances2 = (z1p*z2p)/(z1p+z2p)\n",
    "norm_magnifications2 = magnifications2/magnifications2[0]  # normalized magnifications\n",
    "# scaled propagation distances due to magnified probes\n",
    "distances2 = distances2*norm_magnifications2**2\n",
    "distances2 = distances2*(z1p/z1)**2\n"
   ]
  },
  {
   "cell_type": "markdown",
   "id": "49eb1696-bb30-496e-8c3d-565f2791112c",
   "metadata": {},
   "source": [
    "## Read data"
   ]
  },
  {
   "cell_type": "code",
   "execution_count": null,
   "id": "8a579ce4-0cd2-4769-a03d-7614aa96b0a8",
   "metadata": {},
   "outputs": [],
   "source": [
    "data = np.zeros([ndist,ntheta,n,n],dtype='float32')\n",
    "ref = np.zeros([1,n,n],dtype='float32')\n",
    "psiill = np.zeros([1,2*n,2*n],dtype='complex64')\n",
    "\n",
    "for k in range(ndist):\n",
    "    data[k] = dxchange.read_tiff(f'data/modeling/data_chip_{n}_{k}.tiff')[:ntheta]\n",
    "ref[:] = dxchange.read_tiff(f'data/modeling/ref_chip_{n}_0.tiff')\n",
    "\n",
    "psiill_abs = dxchange.read_tiff(f'data/modeling/psiill_abs_{n}.tiff')\n",
    "psiill_angle = dxchange.read_tiff(f'data/modeling/psiill_angle_{n}.tiff')\n",
    "psiill = psiill_abs*np.exp(1j*psiill_angle)\n",
    "\n",
    "shifts = np.load('shifts.npy')[:ndist,:ntheta]\n",
    "shifts_code = np.load('shifts_code.npy')[:ndist,:ntheta]"
   ]
  },
  {
   "cell_type": "code",
   "execution_count": null,
   "id": "9fbefa59-e344-470c-9971-dc8d0ad71025",
   "metadata": {},
   "outputs": [],
   "source": [
    "fig, axs = plt.subplots(1, 2, figsize=(9, 4))\n",
    "im=axs[0].imshow(data[0,0],cmap='gray')\n",
    "axs[0].set_title('data for distance z1[0]')\n",
    "fig.colorbar(im)\n",
    "im=axs[1].imshow(data[0,-1],cmap='gray')\n",
    "axs[1].set_title('data for distance z1[-1]')\n",
    "fig.colorbar(im)\n",
    "\n",
    "fig, axs = plt.subplots(1, 2, figsize=(9, 4))\n",
    "im=axs[0].imshow(np.abs(psiill[0]),cmap='gray')\n",
    "axs[0].set_title('code abs')\n",
    "fig.colorbar(im)\n",
    "im=axs[1].imshow(np.angle(psiill[0]),cmap='gray')\n",
    "axs[1].set_title('code angle')\n",
    "fig.colorbar(im)"
   ]
  },
  {
   "cell_type": "markdown",
   "id": "ab762843-1992-4f4a-b719-d166ec18c8ca",
   "metadata": {},
   "source": [
    "## Create a solver class for holography"
   ]
  },
  {
   "cell_type": "code",
   "execution_count": null,
   "id": "da48da05-6b46-468a-ae51-ced767b53561",
   "metadata": {},
   "outputs": [],
   "source": [
    "pslv = holotomo.SolverHolo(ntheta, n, ptheta, voxelsize, energy, distances, norm_magnifications,distances2)"
   ]
  },
  {
   "cell_type": "markdown",
   "id": "25557576-b0cf-413e-9d51-ac1ced4d3979",
   "metadata": {},
   "source": [
    "note ptheta parameter is used to define the number of angles for simultaneous processing by 1 gpu. Currently pntheta=ntheta. If the gpu does not have enough memory then ptheta should  be decreased\n",
    "norm_magnifications are magnifications for different distances, normalized by the magnification for the first distance"
   ]
  },
  {
   "cell_type": "markdown",
   "id": "e1195797",
   "metadata": {},
   "source": [
    "## Adjoint test"
   ]
  },
  {
   "cell_type": "code",
   "execution_count": null,
   "id": "9e21e61d",
   "metadata": {},
   "outputs": [],
   "source": [
    "arr1 = np.pad(np.array(data[0]+1j*data[0]).astype('complex64'),((0,0),(n//2,n//2),(n//2,n//2)),'symmetric')\n",
    "prb1 = np.array(ref[:]+1j*ref[:]).astype('complex64')\n",
    "shifts_ref = shifts/norm_magnifications[:,np.newaxis,np.newaxis]\n",
    "print(arr1.shape,prb1.shape,shifts_ref.shape)\n",
    "arr2 = pslv.fwd_holo_batch(arr1,prb1, shifts_ref, psiill, shifts_code)\n",
    "arr3 = pslv.adj_holo_batch(arr2,prb1, shifts_ref, psiill, shifts_code)\n",
    "prb3 = pslv.adj_holo_prb_batch(arr2,arr1, shifts_ref, psiill, shifts_code)\n",
    "\n",
    "\n",
    "print(np.sum(arr1*np.conj(arr3)))\n",
    "print(np.sum(arr2*np.conj(arr2)))\n",
    "print(np.sum(prb1*np.conj(prb3)))"
   ]
  },
  {
   "cell_type": "markdown",
   "id": "32fb1000-7e79-45b1-8c24-03cdf61e29ec",
   "metadata": {},
   "source": [
    "## $\\ \\sum_j\\sum_i||\\mathcal{G}_{d_j}((\\mathcal{G}_{d'_j}q)(M_j S_{r_{ij}}\\psi_i))|-\\sqrt{\\text{I}_{ij}}\\|^2_2 + \\||\\mathcal{G}_{d_0}q|-\\sqrt{\\text{I}_r}\\|_2^2\\to \\text{min}_{\\psi_i,q}$ "
   ]
  },
  {
   "cell_type": "code",
   "execution_count": null,
   "id": "6c0488f1-ac5a-477d-a76e-5d3a5da17448",
   "metadata": {},
   "outputs": [],
   "source": [
    "def line_search(minf, gamma, fu, fu0, fd, fd0):\n",
    "    \"\"\" Line search for the step sizes gamma\"\"\"\n",
    "    while(minf(fu,fu0)-minf(fu+gamma*fd, fu0+gamma*fd0) < 0 and gamma > 1e-12):\n",
    "        gamma *= 0.5\n",
    "    if(gamma <= 1e-12):  # direction not found\n",
    "        #print('no direction')\n",
    "        gamma = 0\n",
    "    return gamma\n",
    "\n",
    "\n",
    "def cg_holo(pslv, pslv0, data, data_ref, init, init_prb,  piter, shifts, code, shifts_code, upd_psi=True, upd_prb=False,step=1,vis_step=1):\n",
    "    \"\"\"Conjugate gradients method for holography\"\"\"\n",
    "\n",
    "    # minimization functional\n",
    "    def minf(fpsi,fprb):\n",
    "        f = cp.linalg.norm(cp.abs(fpsi)-cp.sqrt(data))**2            \n",
    "        f += cp.linalg.norm(cp.abs(fprb)-cp.sqrt(data_ref))**2        \n",
    "        # f = cp.linalg.norm(cp.abs(fpsi)**2-data)**2            \n",
    "        return f        \n",
    "    psi = init.copy()\n",
    "    prb = init_prb.copy()\n",
    "    gammapsi = 1\n",
    "    gammaprb = 1\n",
    "    \n",
    "    for i in range(piter):\n",
    "        if upd_psi:\n",
    "            \n",
    "            fpsi = pslv.fwd_holo(psi,prb,shifts, code, shifts_code)          \n",
    "            d = -pslv.adj_holo(fpsi-cp.sqrt(data)*cp.exp(1j*(cp.angle(fpsi))), prb,shifts, code, shifts_code)/cp.max(cp.abs(prb))**2#/ndist**2\n",
    "            # d = -grad    \n",
    "            # # Dai-Yuan direction\n",
    "            # if i == 0:\n",
    "            #     d = -grad\n",
    "            # else:\n",
    "            #     d = -grad+cp.linalg.norm(grad)**2 / \\\n",
    "            #         ((cp.sum(cp.conj(d)*(grad-grad0))))*d\n",
    "            # grad0 = grad\n",
    "            # line search\n",
    "            fd = pslv.fwd_holo(d, prb,shifts, code, shifts_code)     \n",
    "            gammapsi = line_search(minf, 1, fpsi, 0, fd, 0)\n",
    "            psi += gammapsi*d\n",
    "            \n",
    "        if upd_prb:\n",
    "            fprb = pslv.fwd_holo(psi,prb,shifts, code, shifts_code)\n",
    "            fprb0 = pslv0.fwd_holo(psi*0+1,prb,shifts[:1,:1]*0, code, shifts_code[:1,:1]*0)\n",
    "            \n",
    "            dprb = pslv.adj_holo_prb(fprb-cp.sqrt(data)*cp.exp(1j*cp.angle(fprb)),psi,shifts, code, shifts_code)/cp.max(cp.abs(psi))**2/pslv.ntheta#/ndist**2\n",
    "            dprb += pslv0.adj_holo_prb(fprb0-cp.sqrt(data_ref)*cp.exp(1j*cp.angle(fprb0)),psi*0+1,shifts[:1,:1]*0, code, shifts_code[:1,:1]*0)\n",
    "            dprb*=-0.5\n",
    "            # dprb = -gradprb\n",
    "            # gradprb0 = gradprb\n",
    "            # line search\n",
    "            fdprb = pslv.fwd_holo(psi, dprb,shifts, code, shifts_code)\n",
    "            fdprb0 = pslv0.fwd_holo(psi*0+1, dprb,shifts[:1,:1]*0, code, shifts_code[:1,:1]*0)\n",
    "            \n",
    "            gammaprb = line_search(minf, 1, fprb, fprb0, fdprb, fdprb0)\n",
    "            prb += gammaprb*dprb\n",
    "            \n",
    "        if i%step==0:\n",
    "            fprb = pslv.fwd_holo(psi,prb,shifts, code, shifts_code)\n",
    "            fprb0 = pslv0.fwd_holo(psi*0+1,prb,shifts[:1,:1]*0, code, shifts_code[:1,:1]*0)            \n",
    "            err=minf(fprb,fprb0)\n",
    "            print(f'{i}) {gammapsi=} {gammaprb=}, {err=:1.5e}')  \n",
    "    \n",
    "        if i%vis_step==0:  \n",
    "            fig, axs = plt.subplots(2, 2, figsize=(10, 10))\n",
    "            im=axs[0,0].imshow(np.abs(psi[0].get()),cmap='gray')\n",
    "            axs[0,0].set_title('reconstructed amplitude')\n",
    "            fig.colorbar(im)\n",
    "            im=axs[0,1].imshow(np.angle(psi[0].get()),cmap='gray')\n",
    "            axs[0,1].set_title('reconstructed phase')\n",
    "            fig.colorbar(im)\n",
    "            im=axs[1,0].imshow(np.abs(prb[0].get()),cmap='gray')\n",
    "            axs[1,0].set_title('reconstructed amplitude')\n",
    "            fig.colorbar(im)\n",
    "            im=axs[1,1].imshow(np.angle(prb[0].get()),cmap='gray')\n",
    "            axs[1,1].set_title('reconstructed phase')\n",
    "            fig.colorbar(im)\n",
    "            \n",
    "            plt.show()\n",
    "        \n",
    "    return psi,prb\n",
    "\n",
    "def cg_holo_batch(pslv, pslv0, data,data_ref, init, prb_init, piter,shifts=None, code=None, shifts_code=None,upd_psi=True,upd_prb=False,step=1,vis_step=1):\n",
    "    \"\"\"Batch of CG solvers\"\"\"\n",
    "    \n",
    "    res = np.zeros([pslv.ntheta, 2*pslv.n, 2*pslv.n], dtype='complex64')\n",
    "    prb_init_gpu = cp.array(prb_init)                \n",
    "    shifts_gpu = None        \n",
    "    shifts_code_gpu = None\n",
    "    code_gpu = None\n",
    "    if code is not None:\n",
    "        code_gpu = cp.array(code)        \n",
    "\n",
    "    for ids in holotomo.utils.chunk(range(pslv.ntheta), pslv.ptheta):\n",
    "        # copy data part to gpu\n",
    "        data_gpu = cp.array(data[:,ids])\n",
    "        data_ref_gpu = cp.array(data_ref)        \n",
    "        init_gpu = cp.array(init[ids])\n",
    "        if shifts is not None:\n",
    "            shifts_gpu = cp.array(shifts[:,ids])\n",
    "        if shifts_code is not None:\n",
    "            shifts_code_gpu = cp.array(shifts_code[:,ids])\n",
    "                \n",
    "        # Radon transform\n",
    "        res_gpu,res_prb_gpu = cg_holo(pslv, pslv0, data_gpu,data_ref_gpu, init_gpu,\n",
    "                                      prb_init_gpu, piter,shifts_gpu, code_gpu, shifts_code_gpu, \n",
    "                                      upd_psi, upd_prb,step,vis_step)\n",
    "        # copy result to cpu\n",
    "        res[ids] = res_gpu.get()\n",
    "        res_prb = res_prb_gpu.get()\n",
    "    return res,res_prb"
   ]
  },
  {
   "cell_type": "code",
   "execution_count": null,
   "id": "b1c92c1f",
   "metadata": {},
   "outputs": [],
   "source": [
    "\n",
    "pslv = holotomo.SolverHolo(ntheta, n, ptheta, voxelsize, energy, distances, norm_magnifications, distances2) \n",
    "pslv0 = holotomo.SolverHolo(1, n, 1, voxelsize, energy, distances[:1], norm_magnifications[:1], distances2[:1]) \n",
    "\n",
    "rec = np.ones([1,2*n,2*n],dtype='complex64')\n",
    "rec_prb = np.ones([1,n,n],dtype='complex64')        \n",
    "data_ref = ref[:1,np.newaxis]\n",
    "shifts_ref = cp.array(shifts/norm_magnifications[:,np.newaxis,np.newaxis])[:1,:1]*0\n",
    "\n",
    "_,rec_prb = cg_holo_batch(pslv0, pslv0, data_ref, data_ref, rec, rec_prb, 64, shifts_ref, psiill, shifts_code, False,True,31,31)\n",
    "# fig, axs = plt.subplots(1, 2, figsize=(15, 8))\n",
    "# im=axs[0].imshow(np.abs(rec_prb[0]),cmap='gray')\n",
    "# axs[0].set_title('reconstructed amplitude')\n",
    "# fig.colorbar(im)\n",
    "# im=axs[1].imshow(np.angle(rec_prb[0]),cmap='gray',vmin=-1,vmax=1)\n",
    "# axs[1].set_title('reconstructed phase')\n",
    "# fig.colorbar(im)\n"
   ]
  },
  {
   "cell_type": "code",
   "execution_count": null,
   "id": "784a2ee6",
   "metadata": {},
   "outputs": [],
   "source": [
    "shifts_rec = cp.array(shifts/norm_magnifications[:,np.newaxis,np.newaxis])\n",
    "rec = np.ones([ntheta,2*n,2*n],dtype='complex64')\n",
    "rec_prb[:] = np.abs(rec_prb)\n",
    "\n",
    "rec,rec_prb = cg_holo_batch(pslv, pslv0, data, data_ref, rec, rec_prb, 129, \n",
    "                            shifts_rec, psiill, shifts_code, True,True,16,16)"
   ]
  },
  {
   "cell_type": "code",
   "execution_count": null,
   "id": "e0304046-1809-40b0-ac6a-5648cef02fdf",
   "metadata": {},
   "outputs": [],
   "source": [
    "# dxchange.write_tiff(np.abs(rec),f'/data/vnikitin/holo//psirec_chip_best_abs{n}_{ntheta}_{ndist}',overwrite=True)\n",
    "# dxchange.write_tiff(np.angle(rec),f'/data/vnikitin/holo/psirec_chip_best_angle{n}_{ntheta}_{ndist}',overwrite=True)\n",
    "\n",
    "# dxchange.write_tiff(np.abs(rec_prb),f'/data/vnikitin/holo/prbrec_chip_best_abs{n}_{ntheta}_{ndist}',overwrite=True)\n",
    "# dxchange.write_tiff(np.angle(rec_prb),f'/data/vnikitin/holo/prbrec_chip_best_angle{n}_{ntheta}_{ndist}',overwrite=True)\n",
    "\n",
    "\n",
    "fig, axs = plt.subplots(1, 2, figsize=(15, 8))\n",
    "im=axs[0].imshow(np.abs(rec[0,n//2:-n//2,n//2:-n//2]),cmap='gray')\n",
    "axs[0].set_title('reconstructed amplitude')\n",
    "fig.colorbar(im)\n",
    "im=axs[1].imshow(np.angle(rec[0,n//2:-n//2,n//2:-n//2]),cmap='gray')\n",
    "axs[1].set_title('reconstructed phase')\n",
    "fig.colorbar(im)\n",
    "fig, axs = plt.subplots(1, 2, figsize=(15, 8))\n",
    "im=axs[0].imshow(np.abs(rec[ntheta//8,n//2:-n//2,n//2:-n//2]),cmap='gray')\n",
    "axs[0].set_title('reconstructed amplitude')\n",
    "fig.colorbar(im)\n",
    "im=axs[1].imshow(np.angle(rec[ntheta//8,n//2:-n//2,n//2:-n//2]),cmap='gray')\n",
    "axs[1].set_title('reconstructed phase')\n",
    "fig.colorbar(im)\n",
    "fig, axs = plt.subplots(1, 2, figsize=(15, 8))\n",
    "im=axs[0].imshow(np.abs(rec_prb[0]),cmap='gray')\n",
    "axs[0].set_title('reconstructed amplitude')\n",
    "fig.colorbar(im)\n",
    "im=axs[1].imshow(np.angle(rec_prb[0]),cmap='gray',vmin=-1,vmax=1)\n",
    "axs[1].set_title('reconstructed phase')\n",
    "fig.colorbar(im)\n",
    "# np.save('/data/tmp/rec',rec)\n"
   ]
  },
  {
   "cell_type": "code",
   "execution_count": null,
   "id": "625d4965",
   "metadata": {},
   "outputs": [],
   "source": []
  },
  {
   "cell_type": "markdown",
   "id": "1ff7b20c-b341-41fe-9fe7-0c88b820cbbf",
   "metadata": {},
   "source": [
    "# Convert the recovered transmittance function to the complex refractive index: $-\\frac{i \\lambda}{2\\pi} \\log(\\psi)$  "
   ]
  },
  {
   "cell_type": "code",
   "execution_count": null,
   "id": "ec4e9273-1702-4b9c-aa5c-e1b20fcd37f5",
   "metadata": {},
   "outputs": [],
   "source": [
    "projrec = pslv.logtomo(rec)"
   ]
  },
  {
   "cell_type": "markdown",
   "id": "7a2acdd9-72b2-4b31-84dd-f045c3e80636",
   "metadata": {},
   "source": [
    "# Show sinogram"
   ]
  },
  {
   "cell_type": "code",
   "execution_count": null,
   "id": "085ad038-bb92-4845-8717-1ac4effa03c2",
   "metadata": {},
   "outputs": [],
   "source": [
    "print(projrec.shape)\n",
    "fig, axs = plt.subplots(1, 2, figsize=(9, 4))\n",
    "im=axs[0].imshow(np.real(projrec[0]),cmap='gray')\n",
    "fig.colorbar(im)\n",
    "im=axs[1].imshow(np.imag(projrec[0]),cmap='gray')\n",
    "fig.colorbar(im)"
   ]
  },
  {
   "cell_type": "markdown",
   "id": "df9de86b-90ec-4954-9323-b24f89668a6b",
   "metadata": {},
   "source": [
    "## Step 1. $\\sum_i\\sum_j||\\mathcal{G}_{d_j}((\\mathcal{G}_{d'_j}q)(M_j S_{r_{ij}}\\psi_i))|-\\sqrt{\\text{I}_{ij}}\\|^2_2\\to \\text{min}_{\\psi_i,q} $\n",
    "$i$ - index for angles\\\n",
    "$j$ - index for planes \\\n",
    "$\\psi$ - sample at plane 0 \\\n",
    "$q$ - probe at plane 0\\\n",
    "$M_j$ - object normalized (de-)magnification for the plane $j$ \\\n",
    "$S_r$ - shift for distance r (x and y), shifts between angles + alignment shifts \\\n",
    "$\\mathcal{G}_d$ - Fresnel transform for distance $d$\n",
    "\n",
    "## Step 2.  $\\sum_i\\|\\mathcal{R}_i u-\\frac{\\text{i} \\lambda}{2\\pi} \\log(\\psi_i)\\|^2_2\\to\\text{min}_u$  \n",
    "$\\mathcal{R}_i$ - Radon transform wrt angle i\\\n",
    "\n",
    "$u = 1-\\delta_0+\\beta \\to  u = \\delta+\\beta$\n"
   ]
  },
  {
   "cell_type": "code",
   "execution_count": null,
   "id": "15da367f-de26-4733-becf-4b280882b741",
   "metadata": {},
   "outputs": [],
   "source": [
    "pslv = []\n",
    "pslv0 = []\n",
    "\n",
    "tslv = holotomo.SolverTomo(theta, ntheta, 2*n, 2*n, pn, 2*center)\n",
    "init = np.zeros([2*n,2*n,2*n],dtype='complex64')\n",
    "piter = 64\n",
    "urec = tslv.cg_tomo_batch(projrec,init,piter)"
   ]
  },
  {
   "cell_type": "code",
   "execution_count": null,
   "id": "5c029a0f-dfdc-4cfb-90fc-1e4327d58503",
   "metadata": {},
   "outputs": [],
   "source": [
    "fig, axs = plt.subplots(2, 2, figsize=(9, 9))\n",
    "im=axs[0,0].imshow(urec[300].real,cmap='gray')\n",
    "axs[0,0].set_title('reconstructed delta, horizontal slice')\n",
    "fig.colorbar(im)\n",
    "im=axs[0,1].imshow(urec[133].imag,cmap='gray')\n",
    "axs[0,1].set_title('reconstructed beta, horizontal slice')\n",
    "fig.colorbar(im)\n",
    "im=axs[1,0].imshow(urec[:,n].real,cmap='gray')\n",
    "axs[1,0].set_title('reconstructed delta, vertical slice')\n",
    "fig.colorbar(im)\n",
    "im=axs[1,1].imshow(urec[:,n].imag,cmap='gray')\n",
    "axs[1,1].set_title('reconstructed beta, vertical slice')\n",
    "fig.colorbar(im)"
   ]
  },
  {
   "cell_type": "code",
   "execution_count": null,
   "id": "fc12d3e2-bec2-4f77-b80a-d3f2f9b8cfab",
   "metadata": {},
   "outputs": [],
   "source": [
    "\n",
    "# dxchange.write_tiff(urec.real,f'/data/vnikitin/holo/urec_chip_best_re{n}_{ntheta}_{ndist}',overwrite=True)\n",
    "# dxchange.write_tiff(urec.imag,f'/data/vnikitin/holo/urec_chip_best_im{n}_{ntheta}_{ndist}',overwrite=True)\n"
   ]
  },
  {
   "cell_type": "code",
   "execution_count": null,
   "id": "a4686c68",
   "metadata": {},
   "outputs": [],
   "source": []
  },
  {
   "cell_type": "code",
   "execution_count": null,
   "id": "47ffe646",
   "metadata": {},
   "outputs": [],
   "source": []
  },
  {
   "cell_type": "code",
   "execution_count": null,
   "id": "7494fbf0",
   "metadata": {},
   "outputs": [],
   "source": []
  }
 ],
 "metadata": {
  "kernelspec": {
   "display_name": "Python 3 (ipykernel)",
   "language": "python",
   "name": "python3"
  },
  "language_info": {
   "codemirror_mode": {
    "name": "ipython",
    "version": 3
   },
   "file_extension": ".py",
   "mimetype": "text/x-python",
   "name": "python",
   "nbconvert_exporter": "python",
   "pygments_lexer": "ipython3",
   "version": "3.10.13"
  }
 },
 "nbformat": 4,
 "nbformat_minor": 5
}
